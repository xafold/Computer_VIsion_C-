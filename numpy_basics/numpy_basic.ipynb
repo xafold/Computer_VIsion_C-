{
 "cells": [
  {
   "cell_type": "markdown",
   "metadata": {},
   "source": [
    "# Numpy Basic"
   ]
  },
  {
   "cell_type": "code",
   "execution_count": 19,
   "metadata": {},
   "outputs": [],
   "source": [
    "import sys\n",
    "import numpy as np\n",
    "import time \n",
    "import matplotlib.pyplot as plt"
   ]
  },
  {
   "cell_type": "markdown",
   "metadata": {},
   "source": [
    "## Python List vs Numpy Array"
   ]
  },
  {
   "cell_type": "markdown",
   "metadata": {},
   "source": [
    "1. Memory Consumption between Python List and Numpy Array "
   ]
  },
  {
   "cell_type": "code",
   "execution_count": 20,
   "metadata": {},
   "outputs": [
    {
     "name": "stdout",
     "output_type": "stream",
     "text": [
      "Size of Python list: 800056 bytes\n",
      "Size of Numpy array: 800112 bytes\n",
      "Difference in size 56 bytes\n"
     ]
    }
   ],
   "source": [
    "py_list = list(range(100000)) \n",
    "np_array = np.arange(100000)\n",
    "\n",
    "# Calculating the size of Python list and Numpy array \n",
    "size1 =sys.getsizeof(py_list)\n",
    "size2 =sys.getsizeof(np_array)\n",
    "\n",
    "# Printing the sizes and size difference of Python list and Numpy array\n",
    "print(f\"Size of Python list: {size1} bytes\") \n",
    "print(f\"Size of Numpy array: {size2} bytes\") \n",
    "print(f\"Difference in size {size2-size1} bytes\")"
   ]
  },
  {
   "cell_type": "markdown",
   "metadata": {},
   "source": [
    "2. Time Comparison between Python List and Numpy Array"
   ]
  },
  {
   "cell_type": "code",
   "execution_count": 21,
   "metadata": {},
   "outputs": [
    {
     "name": "stdout",
     "output_type": "stream",
     "text": [
      "Time taken to add Python lists: 0.0963590145111084s\n",
      "Time taken to add Numpy arrays: 0.003006458282470703s\n",
      "The time difference is 0.09336376190185547\n",
      "Numpy is 0.09336376190185547s faster than python.\n",
      "Numpy is 31.295218938573417 times faster than Python lists.\n"
     ]
    }
   ],
   "source": [
    "# Define two Python lists \n",
    "list1 = list(range(1000000)) \n",
    "list2 = list(range(1000000, 2000000))  \n",
    "\n",
    "# Define two Numpy arrays \n",
    "np_array1 = np.arange(1000000) \n",
    "np_array2 = np.arange(1000000, 2000000)  \n",
    "\n",
    "# Adding Python lists \n",
    "start_time = time.time() \n",
    "result_list = [a + b for a, b in zip(list1, list2)]\n",
    "print(f\"Time taken to add Python lists: {time.time() - start_time}s\")\n",
    "python_time = time.time() - start_time  \n",
    "\n",
    "# Adding Numpy arrays \n",
    "start_time = time.time() \n",
    "result_array = np_array1 + np_array2 \n",
    "print(f\"Time taken to add Numpy arrays: {time.time() - start_time}s\")\n",
    "numpy_time = time.time() - start_time\n",
    "\n",
    "# Time difference between Python list and Numpy array\n",
    "print(f\"The time difference is {python_time-numpy_time}\")\n",
    "print(f\"Numpy is {python_time-numpy_time}s faster than python.\")\n",
    "speedup = python_time / numpy_time\n",
    "print(f\"Numpy is {speedup} times faster than Python lists.\")\n"
   ]
  },
  {
   "cell_type": "markdown",
   "metadata": {},
   "source": [
    "### Numpy Functions"
   ]
  },
  {
   "cell_type": "markdown",
   "metadata": {},
   "source": [
    "1. np.zeros and np.zeros_like"
   ]
  },
  {
   "cell_type": "code",
   "execution_count": 22,
   "metadata": {},
   "outputs": [
    {
     "name": "stdout",
     "output_type": "stream",
     "text": [
      "[0. 0. 0. 0. 0. 0. 0. 0. 0. 0.]\n"
     ]
    },
    {
     "data": {
      "text/plain": [
       "array([[0, 0, 0],\n",
       "       [0, 0, 0],\n",
       "       [0, 0, 0]])"
      ]
     },
     "execution_count": 22,
     "metadata": {},
     "output_type": "execute_result"
    }
   ],
   "source": [
    "# Returns a new array of given shape and type, filled with zeros.\n",
    "print(np.zeros(10))\n",
    "\n",
    "x = np.arange(9).reshape((3, 3))\n",
    "\n",
    "# Returns a array of zeros with the same shape and type as a given array.\n",
    "np.zeros_like(x)"
   ]
  },
  {
   "cell_type": "markdown",
   "metadata": {},
   "source": [
    "2. np.ones and np.ones_like"
   ]
  },
  {
   "cell_type": "code",
   "execution_count": 23,
   "metadata": {},
   "outputs": [
    {
     "name": "stdout",
     "output_type": "stream",
     "text": [
      "[1. 1. 1. 1. 1. 1. 1. 1. 1. 1.]\n"
     ]
    },
    {
     "data": {
      "text/plain": [
       "array([[1, 1, 1],\n",
       "       [1, 1, 1]])"
      ]
     },
     "execution_count": 23,
     "metadata": {},
     "output_type": "execute_result"
    }
   ],
   "source": [
    "# Returns a new array of given shape and type, filled with ones.\n",
    "print(np.ones(10))\n",
    "\n",
    "x = np.arange(6).reshape((2, 3))\n",
    "\n",
    "# Returns a array of ones with the same shape and type as a given array.\n",
    "np.ones_like(x)"
   ]
  },
  {
   "cell_type": "markdown",
   "metadata": {},
   "source": [
    "3.np.identity"
   ]
  },
  {
   "cell_type": "code",
   "execution_count": 24,
   "metadata": {},
   "outputs": [
    {
     "name": "stdout",
     "output_type": "stream",
     "text": [
      "[[1. 0. 0.]\n",
      " [0. 1. 0.]\n",
      " [0. 0. 1.]]\n"
     ]
    }
   ],
   "source": [
    "# Return the identity array.\n",
    "print(np.identity(3))"
   ]
  },
  {
   "cell_type": "markdown",
   "metadata": {},
   "source": [
    "4. np.full"
   ]
  },
  {
   "cell_type": "code",
   "execution_count": 25,
   "metadata": {},
   "outputs": [
    {
     "name": "stdout",
     "output_type": "stream",
     "text": [
      "[[1 4]\n",
      " [1 4]]\n",
      "[[inf inf]\n",
      " [inf inf]]\n",
      "[[10 10 10]\n",
      " [10 10 10]\n",
      " [10 10 10]]\n"
     ]
    }
   ],
   "source": [
    "# Returns a new array of given shape and type, filled with fill_value.\n",
    "print(np.full((2, 2), [1,4]))\n",
    "\n",
    "print(np.full((2,2),np.inf))\n",
    "\n",
    "print(np.full((3,3), 10))\n"
   ]
  },
  {
   "cell_type": "markdown",
   "metadata": {},
   "source": [
    "5. np.arange"
   ]
  },
  {
   "cell_type": "code",
   "execution_count": 26,
   "metadata": {},
   "outputs": [
    {
     "name": "stdout",
     "output_type": "stream",
     "text": [
      "[0 1 2 3 4 5]\n",
      "[0. 1. 2.]\n",
      "[3 4 5 6 7 8 9]\n"
     ]
    }
   ],
   "source": [
    "# Returns a array of evenly spaced values within a given interval.\n",
    "print(np.arange(6))\n",
    "print(np.arange(3.0))\n",
    "\n",
    "# Returns a array of spaced values within a given interval [start, ]stop\n",
    "print(np.arange(3,10))\n"
   ]
  },
  {
   "cell_type": "markdown",
   "metadata": {},
   "source": [
    "6. np.linspace"
   ]
  },
  {
   "cell_type": "code",
   "execution_count": 27,
   "metadata": {},
   "outputs": [
    {
     "name": "stdout",
     "output_type": "stream",
     "text": [
      "[2.   2.25 2.5  2.75 3.  ]\n",
      "[2.  2.2 2.4 2.6 2.8]\n",
      "(array([2.  , 2.25, 2.5 , 2.75, 3.  ]), 0.25)\n"
     ]
    }
   ],
   "source": [
    "# Returns a array of evenly spaced numbers over a specified interval. num = Number of samples to generate\n",
    "print(np.linspace(2.0, 3.0, num=5))\n",
    "\n",
    "# endpoint = If True, stop is the last sample. Otherwise, not included.\n",
    "print(np.linspace(2.0, 3.0, num=5, endpoint=False))\n",
    "\n",
    "# retstep = If True, return (samples, step = spacing between samples )\n",
    "print(np.linspace(2.0, 3.0, num=5, retstep=True))\n"
   ]
  },
  {
   "cell_type": "code",
   "execution_count": 28,
   "metadata": {},
   "outputs": [
    {
     "data": {
      "image/png": "[encoded data removed]",
      "text/plain": [
       "<Figure size 640x480 with 1 Axes>"
      ]
     },
     "metadata": {},
     "output_type": "display_data"
    }
   ],
   "source": [
    "N = 10\n",
    "y = np.zeros(N)\n",
    "x1 = np.linspace(0, 10, N, endpoint=True)\n",
    "x2 = np.linspace(0, 10, N, endpoint=False)\n",
    "plt.plot(x1, y, 'o')\n",
    "plt.plot(x2, y + 0.3, 'o')\n",
    "plt.ylim([-0.5, 1])\n",
    "\n",
    "plt.show()"
   ]
  },
  {
   "cell_type": "markdown",
   "metadata": {},
   "source": [
    "7. np.empty"
   ]
  },
  {
   "cell_type": "code",
   "execution_count": 29,
   "metadata": {},
   "outputs": [
    {
     "data": {
      "text/plain": [
       "array([[0.53222222, 0.33722222, 0.53222222],\n",
       "       [4.03322222, 5.49222222, 0.33722222]])"
      ]
     },
     "execution_count": 29,
     "metadata": {},
     "output_type": "execute_result"
    }
   ],
   "source": [
    "# Returns a array with the same shape and type as a given array (function does not initialize the returned array).\n",
    "np.empty([2,3])"
   ]
  },
  {
   "cell_type": "markdown",
   "metadata": {},
   "source": [
    "8. np.mtrix"
   ]
  },
  {
   "cell_type": "code",
   "execution_count": 30,
   "metadata": {},
   "outputs": [
    {
     "name": "stdout",
     "output_type": "stream",
     "text": [
      "[[5 4]\n",
      " [3 2]]\n",
      "[[1 2]\n",
      " [3 4]]\n",
      "[[1 2]\n",
      " [3 4]]\n"
     ]
    }
   ],
   "source": [
    "# Returns a matrix from an array-like object, or from a string of data\n",
    "print(np.matrix('5 4; 3 2'))\n",
    "\n",
    "x = np.array([[1, 2], [3, 4]])\n",
    "m = np.matrix(x)\n",
    "print(m)\n",
    "x[0][0] = 5\n",
    "print(m)\n"
   ]
  },
  {
   "cell_type": "markdown",
   "metadata": {},
   "source": [
    "9. np.mat"
   ]
  },
  {
   "cell_type": "code",
   "execution_count": 31,
   "metadata": {},
   "outputs": [
    {
     "name": "stdout",
     "output_type": "stream",
     "text": [
      "[[1 2]\n",
      " [3 4]]\n",
      "[[8 2]\n",
      " [3 4]]\n"
     ]
    }
   ],
   "source": [
    "# Unlike matrix does not make a copy if the input is already a matrix. Equivalent to matrix(data, copy=False).\n",
    "x = np.array([[1, 2], [3, 4]])\n",
    "m = np.mat(x)\n",
    "print(m)\n",
    "x[0][0]=8\n",
    "print(m)"
   ]
  },
  {
   "cell_type": "markdown",
   "metadata": {},
   "source": [
    "10. np.bmat"
   ]
  },
  {
   "cell_type": "code",
   "execution_count": 32,
   "metadata": {},
   "outputs": [
    {
     "data": {
      "text/plain": [
       "matrix([[ 1,  2,  3,  4],\n",
       "        [ 5,  6,  7,  8],\n",
       "        [ 9, 10, 11, 12],\n",
       "        [13, 14, 15, 16]])"
      ]
     },
     "execution_count": 32,
     "metadata": {},
     "output_type": "execute_result"
    }
   ],
   "source": [
    "# Build a matrix object from a string, nested sequence, or array.\n",
    "A = np.mat('1 2; 5 6')\n",
    "B = np.mat('3 4; 7 8')\n",
    "C = np.mat('9 10; 13 14')\n",
    "D = np.mat('11 12; 15 16')\n",
    "\n",
    "np.bmat([[A, B], [C, D]])"
   ]
  },
  {
   "cell_type": "markdown",
   "metadata": {},
   "source": [
    "### Numpy Data types"
   ]
  },
  {
   "cell_type": "code",
   "execution_count": 41,
   "metadata": {},
   "outputs": [
    {
     "name": "stdout",
     "output_type": "stream",
     "text": [
      "1.0\n",
      "[1 2 4]\n",
      "[0 1 2]\n"
     ]
    }
   ],
   "source": [
    "# Float \n",
    "x = np.float32(1.0)\n",
    "print(x)\n",
    "\n",
    "# Integer\n",
    "y = np.int_([1,2,4])\n",
    "print(y)\n",
    "\n",
    "# Unit8 (0-255)\n",
    "z = np.arange(3, dtype=np.uint8)\n",
    "print(z)\n"
   ]
  },
  {
   "cell_type": "code",
   "execution_count": 42,
   "metadata": {},
   "outputs": [
    {
     "name": "stdout",
     "output_type": "stream",
     "text": [
      "[0. 1. 2.]\n",
      "[0 1 2]\n"
     ]
    }
   ],
   "source": [
    "# Converting data type of z into float and int8\n",
    "print(z.astype(float))\n",
    "\n",
    "print(np.int8(z))"
   ]
  },
  {
   "cell_type": "code",
   "execution_count": 43,
   "metadata": {},
   "outputs": [
    {
     "name": "stdout",
     "output_type": "stream",
     "text": [
      "True\n",
      "False\n"
     ]
    }
   ],
   "source": [
    "# Checking the data type of d\n",
    "d = np.dtype(int)\n",
    "print(np.issubdtype(d, np.integer))\n",
    "print(np.issubdtype(d, np.floating))"
   ]
  },
  {
   "cell_type": "code",
   "execution_count": 44,
   "metadata": {},
   "outputs": [
    {
     "name": "stdout",
     "output_type": "stream",
     "text": [
      "10000000000000000\n",
      "1874919424\n",
      "Machine parameters for int64\n",
      "---------------------------------------------------------------\n",
      "min = -9223372036854775808\n",
      "max = 9223372036854775807\n",
      "---------------------------------------------------------------\n",
      "\n",
      "Machine parameters for int64\n",
      "---------------------------------------------------------------\n",
      "min = -9223372036854775808\n",
      "max = 9223372036854775807\n",
      "---------------------------------------------------------------\n",
      "\n",
      "Machine parameters for float64\n",
      "---------------------------------------------------------------\n",
      "precision =  15   resolution = 1.0000000000000001e-15\n",
      "machep =    -52   eps =        2.2204460492503131e-16\n",
      "negep =     -53   epsneg =     1.1102230246251565e-16\n",
      "minexp =  -1022   tiny =       2.2250738585072014e-308\n",
      "maxexp =   1024   max =        1.7976931348623157e+308\n",
      "nexp =       11   min =        -max\n",
      "smallest_normal = 2.2250738585072014e-308   smallest_subnormal = 4.9406564584124654e-324\n",
      "---------------------------------------------------------------\n",
      "\n"
     ]
    }
   ],
   "source": [
    "# Overflow Errors\n",
    "\n",
    "# np.power evaluates 100 ** 8 correctly for 64-bit integers, but incorrect for a 32-bit integer.\n",
    "print(np.power(100, 8, dtype=np.int64))\n",
    "\n",
    "print(np.power(100, 8, dtype=np.int32))\n",
    "\n",
    "# Bounds of the data types \n",
    "print(np.iinfo(np.int64))\n",
    "\n",
    "print(np.iinfo(np.int64))\n",
    "\n",
    "print(np.finfo(np.float64))\n"
   ]
  }
 ],
 "metadata": {
  "kernelspec": {
   "display_name": "utsab",
   "language": "python",
   "name": "python3"
  },
  "language_info": {
   "codemirror_mode": {
    "name": "ipython",
    "version": 3
   },
   "file_extension": ".py",
   "mimetype": "text/x-python",
   "name": "python",
   "nbconvert_exporter": "python",
   "pygments_lexer": "ipython3",
   "version": "3.11.4"
  },
  "orig_nbformat": 4
 },
 "nbformat": 4,
 "nbformat_minor": 2
}
